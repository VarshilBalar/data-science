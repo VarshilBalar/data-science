{
  "metadata": {
    "kernelspec": {
      "name": "python",
      "display_name": "Python (Pyodide)",
      "language": "python"
    },
    "language_info": {
      "codemirror_mode": {
        "name": "python",
        "version": 3
      },
      "file_extension": ".py",
      "mimetype": "text/x-python",
      "name": "python",
      "nbconvert_exporter": "python",
      "pygments_lexer": "ipython3",
      "version": "3.8"
    }
  },
  "nbformat_minor": 5,
  "nbformat": 4,
  "cells": [
    {
      "id": "2014e428-843a-4734-a7e9-8c205fa06cff",
      "cell_type": "markdown",
      "source": "# Data Science Tools and Ecosystem",
      "metadata": {}
    },
    {
      "id": "69f369f0-d9d0-4980-b986-2f1181f7a500",
      "cell_type": "markdown",
      "source": "In this notebook, Data Science Tools and Ecosystem are summarized.",
      "metadata": {}
    },
    {
      "id": "660e8bec-501f-4b8f-b3f4-42eba53db503",
      "cell_type": "markdown",
      "source": "Some of the popular languages that Data Scientists use are:\n1. Python\n2. R\n3. SQL",
      "metadata": {}
    },
    {
      "id": "556afe40-c5fb-4acd-9c21-05fe1c79d4c7",
      "cell_type": "markdown",
      "source": "Some of the commonly used libraries used by Data Scientists include:\n1. Pandas\n2. NumPy\n3. Matplotlib",
      "metadata": {}
    },
    {
      "id": "4592a509-93ef-4d0a-97dd-db280dd9f48b",
      "cell_type": "markdown",
      "source": "| Data Science Tools |\n|--------------------|\n| Jupyter Notebooks  |\n| RStudio            |\n| VS Code            |",
      "metadata": {}
    },
    {
      "id": "d25b69be-8881-452f-bcfa-50779da6a6b5",
      "cell_type": "code",
      "source": "# This a simple arithmetic expression to multiply then add integers.\nresult = (3*4)+5\nresult",
      "metadata": {
        "trusted": true
      },
      "outputs": [],
      "execution_count": null
    },
    {
      "id": "91789b50-945f-4922-b607-afd5efb0b51d",
      "cell_type": "code",
      "source": "# This will convert 200 minutes to hours by dividing by 60.\nhours = 200 / 60\nhours",
      "metadata": {
        "trusted": true
      },
      "outputs": [],
      "execution_count": null
    },
    {
      "id": "2ea2ff09-a277-4423-9905-7874cae074ff",
      "cell_type": "code",
      "source": "",
      "metadata": {
        "trusted": true
      },
      "outputs": [],
      "execution_count": null
    }
  ]
}